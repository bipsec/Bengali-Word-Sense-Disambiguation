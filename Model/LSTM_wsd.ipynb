{
  "nbformat": 4,
  "nbformat_minor": 0,
  "metadata": {
    "accelerator": "GPU",
    "colab": {
      "name": "LSTM_wsd.ipynb",
      "provenance": []
    },
    "kernelspec": {
      "display_name": "Python 3",
      "name": "python3"
    }
  },
  "cells": [
    {
      "cell_type": "code",
      "metadata": {
        "id": "NBP_IEjyEyob"
      },
      "source": [
        "# !pip install bnlp_toolkit"
      ],
      "execution_count": null,
      "outputs": []
    },
    {
      "cell_type": "code",
      "metadata": {
        "colab": {
          "base_uri": "https://localhost:8080/"
        },
        "id": "foOP0NWVSAS7",
        "outputId": "8bad51f3-69d9-46d2-f7b2-2b640925186a"
      },
      "source": [
        "from google.colab import drive\n",
        "drive.mount('/content/drive')"
      ],
      "execution_count": null,
      "outputs": [
        {
          "output_type": "stream",
          "text": [
            "Mounted at /content/drive\n"
          ],
          "name": "stdout"
        }
      ]
    },
    {
      "cell_type": "code",
      "metadata": {
        "colab": {
          "base_uri": "https://localhost:8080/"
        },
        "id": "lQPPVtPGQ3LX",
        "outputId": "e4409418-9502-4b9d-d262-6d7fdcdaadf9"
      },
      "source": [
        "!ls\n",
        "!pwd"
      ],
      "execution_count": null,
      "outputs": [
        {
          "output_type": "stream",
          "text": [
            "drive  sample_data\n",
            "/content\n"
          ],
          "name": "stdout"
        }
      ]
    },
    {
      "cell_type": "code",
      "metadata": {
        "id": "tLTKH4W4AgXd"
      },
      "source": [
        "import numpy as np\n",
        "import pandas as pd\n",
        "import matplotlib.pyplot as plt\n",
        "import re\n",
        "import os\n",
        "import pickle\n",
        "from tqdm import tqdm\n",
        "from tensorflow.keras.preprocessing.sequence import pad_sequences\n",
        "from tensorflow.keras.layers import Dense, Dropout, LSTM, Embedding, Bidirectional\n",
        "from tensorflow.keras.models import Sequential\n",
        "from tensorflow.keras.preprocessing.text import Tokenizer\n",
        "from tensorflow.keras.callbacks import TensorBoard\n",
        "from sklearn.model_selection import train_test_split\n",
        "from keras.layers import Embedding\n",
        "from  keras . utils  import  to_categorical\n",
        "from keras.layers import Dense, Input, GlobalMaxPooling1D\n",
        "from keras.layers import Conv1D,Conv2D, MaxPooling1D, Embedding, Flatten\n",
        "from keras.models import Model\n",
        "from keras.initializers import Constant\n",
        "from keras.layers import Embedding\n",
        "\n",
        "from pandas import DataFrame\n",
        "from sklearn.naive_bayes import GaussianNB\n",
        "from sklearn.model_selection import train_test_split"
      ],
      "execution_count": null,
      "outputs": []
    },
    {
      "cell_type": "code",
      "metadata": {
        "id": "myUIl-z5k0CA"
      },
      "source": [
        "df = pd.read_csv('/content/drive/MyDrive/Colab Notebooks/Dataset/WSD Dataset .csv')\n",
        "# stop_words = pd.read_csv('/content/drive/MyDrive/Colab Notebooks/Dataset/Stopwords.csv')"
      ],
      "execution_count": null,
      "outputs": []
    },
    {
      "cell_type": "code",
      "metadata": {
        "id": "NpNHhLNup3ky"
      },
      "source": [
        "# df1 = pd.DataFrame(df[0:539])"
      ],
      "execution_count": null,
      "outputs": []
    },
    {
      "cell_type": "code",
      "metadata": {
        "colab": {
          "base_uri": "https://localhost:8080/",
          "height": 204
        },
        "id": "S_cb4klTCkZh",
        "outputId": "cbc80f4e-3838-4cee-fe5b-500ad0381620"
      },
      "source": [
        "df.head()"
      ],
      "execution_count": null,
      "outputs": [
        {
          "output_type": "execute_result",
          "data": {
            "text/html": [
              "<div>\n",
              "<style scoped>\n",
              "    .dataframe tbody tr th:only-of-type {\n",
              "        vertical-align: middle;\n",
              "    }\n",
              "\n",
              "    .dataframe tbody tr th {\n",
              "        vertical-align: top;\n",
              "    }\n",
              "\n",
              "    .dataframe thead th {\n",
              "        text-align: right;\n",
              "    }\n",
              "</style>\n",
              "<table border=\"1\" class=\"dataframe\">\n",
              "  <thead>\n",
              "    <tr style=\"text-align: right;\">\n",
              "      <th></th>\n",
              "      <th>ambiguous_word</th>\n",
              "      <th>meaning</th>\n",
              "      <th>Text</th>\n",
              "      <th>Unnamed: 3</th>\n",
              "    </tr>\n",
              "  </thead>\n",
              "  <tbody>\n",
              "    <tr>\n",
              "      <th>0</th>\n",
              "      <td>মাথা</td>\n",
              "      <td>অঙ্গ বিশেষ</td>\n",
              "      <td>মাথা হলো মানবদেহে বিদ্যমান সবচেয়ে ভারি অংশ।</td>\n",
              "      <td>NaN</td>\n",
              "    </tr>\n",
              "    <tr>\n",
              "      <th>1</th>\n",
              "      <td>মাথা</td>\n",
              "      <td>অঙ্গ বিশেষ</td>\n",
              "      <td>মাথা অঙ্গের একটি অংশ যাতে সাধারণত চোখ, কান, না...</td>\n",
              "      <td>NaN</td>\n",
              "    </tr>\n",
              "    <tr>\n",
              "      <th>2</th>\n",
              "      <td>মাথা</td>\n",
              "      <td>অঙ্গ বিশেষ</td>\n",
              "      <td>মাথার উপর ভারি ডিসি পাথরটা ছেড়ে দিলেন তিনি ।</td>\n",
              "      <td>NaN</td>\n",
              "    </tr>\n",
              "    <tr>\n",
              "      <th>3</th>\n",
              "      <td>মাথা</td>\n",
              "      <td>অঙ্গ বিশেষ</td>\n",
              "      <td>মাথা বেল করে দেওয়া উচিত ছিল।</td>\n",
              "      <td>NaN</td>\n",
              "    </tr>\n",
              "    <tr>\n",
              "      <th>4</th>\n",
              "      <td>মাথা</td>\n",
              "      <td>অঙ্গ বিশেষ</td>\n",
              "      <td>মাথার উপরের এবং সামনের অংশ</td>\n",
              "      <td>NaN</td>\n",
              "    </tr>\n",
              "  </tbody>\n",
              "</table>\n",
              "</div>"
            ],
            "text/plain": [
              "  ambiguous_word  ... Unnamed: 3\n",
              "0           মাথা  ...        NaN\n",
              "1           মাথা  ...        NaN\n",
              "2           মাথা  ...        NaN\n",
              "3           মাথা  ...        NaN\n",
              "4           মাথা  ...        NaN\n",
              "\n",
              "[5 rows x 4 columns]"
            ]
          },
          "metadata": {
            "tags": []
          },
          "execution_count": 7
        }
      ]
    },
    {
      "cell_type": "code",
      "metadata": {
        "colab": {
          "base_uri": "https://localhost:8080/"
        },
        "id": "XhL1LmatJOEx",
        "outputId": "751dd732-5fc5-4b09-8cf8-78d381d5c025"
      },
      "source": [
        "len(set(df['meaning']))"
      ],
      "execution_count": null,
      "outputs": [
        {
          "output_type": "execute_result",
          "data": {
            "text/plain": [
              "465"
            ]
          },
          "metadata": {
            "tags": []
          },
          "execution_count": 8
        }
      ]
    },
    {
      "cell_type": "code",
      "metadata": {
        "colab": {
          "base_uri": "https://localhost:8080/"
        },
        "id": "AHw8qjEO7439",
        "outputId": "dea1ab76-bd9f-4450-e2a4-67c3e26efdf0"
      },
      "source": [
        "df.info()"
      ],
      "execution_count": null,
      "outputs": [
        {
          "output_type": "stream",
          "text": [
            "<class 'pandas.core.frame.DataFrame'>\n",
            "RangeIndex: 9486 entries, 0 to 9485\n",
            "Data columns (total 4 columns):\n",
            " #   Column          Non-Null Count  Dtype \n",
            "---  ------          --------------  ----- \n",
            " 0   ambiguous_word  9486 non-null   object\n",
            " 1   meaning         9486 non-null   object\n",
            " 2   Text            9486 non-null   object\n",
            " 3   Unnamed: 3      2 non-null      object\n",
            "dtypes: object(4)\n",
            "memory usage: 296.6+ KB\n"
          ],
          "name": "stdout"
        }
      ]
    },
    {
      "cell_type": "code",
      "metadata": {
        "id": "BhqCY4_JlN4p"
      },
      "source": [
        "df = df.drop(['Unnamed: 3'] , axis=1)\n"
      ],
      "execution_count": null,
      "outputs": []
    },
    {
      "cell_type": "code",
      "metadata": {
        "colab": {
          "base_uri": "https://localhost:8080/",
          "height": 204
        },
        "id": "LvRfIf144KvF",
        "outputId": "c3635cbb-b406-4708-cd51-2288e2240955"
      },
      "source": [
        "df.head()"
      ],
      "execution_count": null,
      "outputs": [
        {
          "output_type": "execute_result",
          "data": {
            "text/html": [
              "<div>\n",
              "<style scoped>\n",
              "    .dataframe tbody tr th:only-of-type {\n",
              "        vertical-align: middle;\n",
              "    }\n",
              "\n",
              "    .dataframe tbody tr th {\n",
              "        vertical-align: top;\n",
              "    }\n",
              "\n",
              "    .dataframe thead th {\n",
              "        text-align: right;\n",
              "    }\n",
              "</style>\n",
              "<table border=\"1\" class=\"dataframe\">\n",
              "  <thead>\n",
              "    <tr style=\"text-align: right;\">\n",
              "      <th></th>\n",
              "      <th>ambiguous_word</th>\n",
              "      <th>meaning</th>\n",
              "      <th>Text</th>\n",
              "    </tr>\n",
              "  </thead>\n",
              "  <tbody>\n",
              "    <tr>\n",
              "      <th>0</th>\n",
              "      <td>মাথা</td>\n",
              "      <td>অঙ্গ বিশেষ</td>\n",
              "      <td>মাথা হলো মানবদেহে বিদ্যমান সবচেয়ে ভারি অংশ।</td>\n",
              "    </tr>\n",
              "    <tr>\n",
              "      <th>1</th>\n",
              "      <td>মাথা</td>\n",
              "      <td>অঙ্গ বিশেষ</td>\n",
              "      <td>মাথা অঙ্গের একটি অংশ যাতে সাধারণত চোখ, কান, না...</td>\n",
              "    </tr>\n",
              "    <tr>\n",
              "      <th>2</th>\n",
              "      <td>মাথা</td>\n",
              "      <td>অঙ্গ বিশেষ</td>\n",
              "      <td>মাথার উপর ভারি ডিসি পাথরটা ছেড়ে দিলেন তিনি ।</td>\n",
              "    </tr>\n",
              "    <tr>\n",
              "      <th>3</th>\n",
              "      <td>মাথা</td>\n",
              "      <td>অঙ্গ বিশেষ</td>\n",
              "      <td>মাথা বেল করে দেওয়া উচিত ছিল।</td>\n",
              "    </tr>\n",
              "    <tr>\n",
              "      <th>4</th>\n",
              "      <td>মাথা</td>\n",
              "      <td>অঙ্গ বিশেষ</td>\n",
              "      <td>মাথার উপরের এবং সামনের অংশ</td>\n",
              "    </tr>\n",
              "  </tbody>\n",
              "</table>\n",
              "</div>"
            ],
            "text/plain": [
              "  ambiguous_word     meaning                                               Text\n",
              "0           মাথা  অঙ্গ বিশেষ       মাথা হলো মানবদেহে বিদ্যমান সবচেয়ে ভারি অংশ।\n",
              "1           মাথা  অঙ্গ বিশেষ  মাথা অঙ্গের একটি অংশ যাতে সাধারণত চোখ, কান, না...\n",
              "2           মাথা  অঙ্গ বিশেষ      মাথার উপর ভারি ডিসি পাথরটা ছেড়ে দিলেন তিনি ।\n",
              "3           মাথা  অঙ্গ বিশেষ                     মাথা বেল করে দেওয়া উচিত ছিল। \n",
              "4           মাথা  অঙ্গ বিশেষ                         মাথার উপরের এবং সামনের অংশ"
            ]
          },
          "metadata": {
            "tags": []
          },
          "execution_count": 11
        }
      ]
    },
    {
      "cell_type": "code",
      "metadata": {
        "id": "iR37K9MamIox"
      },
      "source": [
        "texts = list(df['Text'])"
      ],
      "execution_count": null,
      "outputs": []
    },
    {
      "cell_type": "code",
      "metadata": {
        "id": "opaT16SNm6bQ"
      },
      "source": [
        "label = list(df['meaning'])"
      ],
      "execution_count": null,
      "outputs": []
    },
    {
      "cell_type": "code",
      "metadata": {
        "id": "4hCFNV1Hdb5G"
      },
      "source": [
        "macronum=sorted(set(df['meaning']))\n",
        "macro_to_id = dict((note, number) for number, note in enumerate(macronum))\n",
        "\n",
        "def fun(i):\n",
        "    return macro_to_id[i]\n",
        "\n",
        "df['meaning']=df['meaning'].apply(fun)"
      ],
      "execution_count": null,
      "outputs": []
    },
    {
      "cell_type": "code",
      "metadata": {
        "id": "GE8lzbIXodIn"
      },
      "source": [
        "label = list(df['meaning'])"
      ],
      "execution_count": null,
      "outputs": []
    },
    {
      "cell_type": "code",
      "metadata": {
        "id": "NIOhkgqHomvq"
      },
      "source": [
        "# max(label)"
      ],
      "execution_count": null,
      "outputs": []
    },
    {
      "cell_type": "markdown",
      "metadata": {
        "id": "b-4WKre3o67g"
      },
      "source": [
        "# Total no. of class 529 (sense) "
      ]
    },
    {
      "cell_type": "code",
      "metadata": {
        "id": "UjiilE_Fdb8H"
      },
      "source": [
        "def clean_punct(sentence):\n",
        "    cleaned = re.sub(r'[?|!|\\'|\"|#|।|’|‘]', r'', sentence)\n",
        "    cleaned1 = re.sub(r'[.|,|(|)|\\|/]', r'', cleaned)\n",
        "  #  cleaned = re.sub(r'[০|১|২|৩|৪|৫|৬|৭|৮|৯]', r'', cleaned1)\n",
        "    cleaned1 = re.sub(r'[-|=]', r' ', cleaned1)\n",
        "    return cleaned1"
      ],
      "execution_count": null,
      "outputs": []
    },
    {
      "cell_type": "code",
      "metadata": {
        "id": "Nj7gh0z6db_5"
      },
      "source": [
        "# stop_words\n",
        "# set_stop = set(stop_words['words'])"
      ],
      "execution_count": null,
      "outputs": []
    },
    {
      "cell_type": "code",
      "metadata": {
        "id": "FfLlH8F7pqv8"
      },
      "source": [
        "# len(set_stop)"
      ],
      "execution_count": null,
      "outputs": []
    },
    {
      "cell_type": "code",
      "metadata": {
        "id": "uUgxGcogdcCz"
      },
      "source": [
        "def pre_process(data):\n",
        "    i=0\n",
        "    str1=' '\n",
        "    final_string = []\n",
        "    final_words = []\n",
        "    all_negative_words = []\n",
        "    s=''\n",
        "\n",
        "    for sentence in data:\n",
        "        filtered_sentence = []\n",
        "        for w in str(sentence).split():\n",
        "            for cleaned_word in clean_punct(w).split():\n",
        "                if len(cleaned_word)>2:\n",
        "                   # print(cleaned_word)\n",
        "                    # if((cleaned_word) not in set_stop):\n",
        "                        # s = stemmer.stem_word(cleaned_word)\n",
        "                        s = cleaned_word\n",
        "                        #print(s)\n",
        "                        if len(s)>2:\n",
        "                            final_words.append(s)\n",
        "                            filtered_sentence.append(s)\n",
        "                    \n",
        "                else:\n",
        "                    continue\n",
        "\n",
        "        str1 = \" \".join(filtered_sentence)\n",
        "        final_string.append(str1)\n",
        "    return final_string"
      ],
      "execution_count": null,
      "outputs": []
    },
    {
      "cell_type": "code",
      "metadata": {
        "id": "Ngn4Mhqdr6nk"
      },
      "source": [
        "import re\n",
        "re.compile('<title>(.*)</title>')\n",
        "texts = pre_process(texts)"
      ],
      "execution_count": null,
      "outputs": []
    },
    {
      "cell_type": "code",
      "metadata": {
        "id": "VvbstP5SxVGB"
      },
      "source": [
        "texts"
      ],
      "execution_count": null,
      "outputs": []
    },
    {
      "cell_type": "code",
      "metadata": {
        "id": "pW1hZdfGdcFE"
      },
      "source": [
        "total_texts = pre_process(texts)"
      ],
      "execution_count": null,
      "outputs": []
    },
    {
      "cell_type": "code",
      "metadata": {
        "id": "ZBliF4Fkrqil"
      },
      "source": [
        "# append the ambiguous word at last\n",
        "# for i in range(len(ambi_word)):\n",
        "#     ambi_word[i] = str(ambi_word[i])\n",
        "\n",
        "# for i in range(len(texts)):\n",
        "#   texts[i] = texts[i] + \" \" + df1['ambiguous_word'][i]"
      ],
      "execution_count": null,
      "outputs": []
    },
    {
      "cell_type": "code",
      "metadata": {
        "id": "9JU2PJzchL4c"
      },
      "source": [
        "df['text']= texts"
      ],
      "execution_count": null,
      "outputs": []
    },
    {
      "cell_type": "code",
      "metadata": {
        "id": "Uu0XN9u-hGnt"
      },
      "source": [
        "df.drop(['Text','ambiguous_word'],axis=1,inplace=True)"
      ],
      "execution_count": null,
      "outputs": []
    },
    {
      "cell_type": "code",
      "metadata": {
        "colab": {
          "base_uri": "https://localhost:8080/",
          "height": 204
        },
        "id": "8XdDJwchqQNS",
        "outputId": "a8e73a52-7727-430b-ea91-244357d39071"
      },
      "source": [
        "df.head()"
      ],
      "execution_count": null,
      "outputs": [
        {
          "output_type": "execute_result",
          "data": {
            "text/html": [
              "<div>\n",
              "<style scoped>\n",
              "    .dataframe tbody tr th:only-of-type {\n",
              "        vertical-align: middle;\n",
              "    }\n",
              "\n",
              "    .dataframe tbody tr th {\n",
              "        vertical-align: top;\n",
              "    }\n",
              "\n",
              "    .dataframe thead th {\n",
              "        text-align: right;\n",
              "    }\n",
              "</style>\n",
              "<table border=\"1\" class=\"dataframe\">\n",
              "  <thead>\n",
              "    <tr style=\"text-align: right;\">\n",
              "      <th></th>\n",
              "      <th>meaning</th>\n",
              "      <th>text</th>\n",
              "    </tr>\n",
              "  </thead>\n",
              "  <tbody>\n",
              "    <tr>\n",
              "      <th>0</th>\n",
              "      <td>8</td>\n",
              "      <td>মাথা হলো মানবদেহে বিদ্যমান সবচেয়ে ভারি অংশ</td>\n",
              "    </tr>\n",
              "    <tr>\n",
              "      <th>1</th>\n",
              "      <td>8</td>\n",
              "      <td>মাথা অঙ্গের একটি অংশ যাতে সাধারণত চোখ কান নাক ...</td>\n",
              "    </tr>\n",
              "    <tr>\n",
              "      <th>2</th>\n",
              "      <td>8</td>\n",
              "      <td>মাথার উপর ভারি ডিসি পাথরটা ছেড়ে দিলেন তিনি</td>\n",
              "    </tr>\n",
              "    <tr>\n",
              "      <th>3</th>\n",
              "      <td>8</td>\n",
              "      <td>মাথা বেল করে দেওয়া উচিত ছিল</td>\n",
              "    </tr>\n",
              "    <tr>\n",
              "      <th>4</th>\n",
              "      <td>8</td>\n",
              "      <td>মাথার উপরের এবং সামনের অংশ</td>\n",
              "    </tr>\n",
              "  </tbody>\n",
              "</table>\n",
              "</div>"
            ],
            "text/plain": [
              "   meaning                                               text\n",
              "0        8        মাথা হলো মানবদেহে বিদ্যমান সবচেয়ে ভারি অংশ\n",
              "1        8  মাথা অঙ্গের একটি অংশ যাতে সাধারণত চোখ কান নাক ...\n",
              "2        8        মাথার উপর ভারি ডিসি পাথরটা ছেড়ে দিলেন তিনি\n",
              "3        8                       মাথা বেল করে দেওয়া উচিত ছিল\n",
              "4        8                         মাথার উপরের এবং সামনের অংশ"
            ]
          },
          "metadata": {
            "tags": []
          },
          "execution_count": 27
        }
      ]
    },
    {
      "cell_type": "code",
      "metadata": {
        "id": "KEwkU08YeIg_"
      },
      "source": [
        "def get_embedding_vectors(word_index, embedding_size=300):\n",
        "    embeddingsIndex = {}\n",
        "    embedding_matrix = np.zeros((len(word_index) + 1, embedding_size))\n",
        "    with open(f\"/content/drive/MyDrive/Colab Notebooks/Dataset/bn_glove.300d.txt\") as f:\n",
        "        for line in tqdm(f, \"Reading Glove\"):\n",
        "            values = line.split(' ')\n",
        "           # print(values)\n",
        "            word = values[0]\n",
        "            embeddingVector = np.array([float(val) for val in values[1:]])\n",
        "            embeddingsIndex[word] = embeddingVector\n",
        "    embeddingMatrix = np.zeros((len(word_index) + 1, 300))\n",
        "    for word, i in word_index.items():\n",
        "        embeddingVector = embeddingsIndex.get(word)\n",
        "        if embeddingVector is not None:\n",
        "            # words not found in embedding index will be all-zeros.\n",
        "            embeddingMatrix[i] = embeddingVector\n",
        "    \n",
        "    return embeddingMatrix "
      ],
      "execution_count": null,
      "outputs": []
    },
    {
      "cell_type": "markdown",
      "metadata": {
        "id": "FSfqewPo2owL"
      },
      "source": [
        "# MAx Unique word"
      ]
    },
    {
      "cell_type": "code",
      "metadata": {
        "colab": {
          "base_uri": "https://localhost:8080/"
        },
        "id": "EBicRhuZ0mti",
        "outputId": "e3032528-230d-4833-f8c1-919cbddd3bad"
      },
      "source": [
        "words = []\n",
        "count = 0\n",
        "for line in total_texts:\n",
        "  sen = line.split()\n",
        "  for word in sen:\n",
        "    # print(word)\n",
        "    if word not in words:\n",
        "      words.append(word)\n",
        "      count += 1\n",
        "print(count)"
      ],
      "execution_count": null,
      "outputs": [
        {
          "output_type": "stream",
          "text": [
            "15007\n"
          ],
          "name": "stdout"
        }
      ]
    },
    {
      "cell_type": "code",
      "metadata": {
        "colab": {
          "base_uri": "https://localhost:8080/"
        },
        "id": "f7A53N9cgz6_",
        "outputId": "5f70473d-a1ec-499d-fd1c-23223b10a46c"
      },
      "source": [
        "from keras.preprocessing.text import Tokenizer\n",
        "from keras.preprocessing.sequence import pad_sequences\n",
        "\n",
        "tokenizer = Tokenizer(num_words = 1761)\n",
        "tokenizer.fit_on_texts(total_texts)\n",
        "sequences = tokenizer.texts_to_sequences(total_texts)\n",
        "\n",
        "word_index = tokenizer.word_index\n",
        "print('Found %s unique tokens.' % len(word_index))"
      ],
      "execution_count": null,
      "outputs": [
        {
          "output_type": "stream",
          "text": [
            "Found 14964 unique tokens.\n"
          ],
          "name": "stdout"
        }
      ]
    },
    {
      "cell_type": "code",
      "metadata": {
        "id": "6bXGz1aPov9_"
      },
      "source": [
        "word_index"
      ],
      "execution_count": null,
      "outputs": []
    },
    {
      "cell_type": "code",
      "metadata": {
        "colab": {
          "base_uri": "https://localhost:8080/"
        },
        "id": "DIvFpwBOBPUN",
        "outputId": "29d2fec8-85b6-4f53-885f-aa556824512d"
      },
      "source": [
        "embedding_matrix = get_embedding_vectors(word_index)"
      ],
      "execution_count": null,
      "outputs": [
        {
          "output_type": "stream",
          "text": [
            "Reading Glove: 178153it [00:26, 6819.25it/s]\n"
          ],
          "name": "stderr"
        }
      ]
    },
    {
      "cell_type": "code",
      "metadata": {
        "id": "uwaXFCz3d5x9",
        "colab": {
          "base_uri": "https://localhost:8080/"
        },
        "outputId": "ca3759fc-648f-4bf6-9390-8b1440ecdc8f"
      },
      "source": [
        "embedding_matrix"
      ],
      "execution_count": null,
      "outputs": [
        {
          "output_type": "execute_result",
          "data": {
            "text/plain": [
              "array([[ 0.      ,  0.      ,  0.      , ...,  0.      ,  0.      ,\n",
              "         0.      ],\n",
              "       [-0.829841, -0.452853,  0.124189, ...,  0.659246,  0.247762,\n",
              "         0.930659],\n",
              "       [-0.13826 ,  0.290732, -0.026134, ...,  0.657288,  0.12792 ,\n",
              "        -0.051071],\n",
              "       ...,\n",
              "       [ 0.      ,  0.      ,  0.      , ...,  0.      ,  0.      ,\n",
              "         0.      ],\n",
              "       [ 0.202973,  0.045013,  0.039   , ...,  0.12112 , -0.683351,\n",
              "         0.106692],\n",
              "       [ 0.179712,  0.236013,  0.09481 , ..., -0.443959,  0.155647,\n",
              "         0.502211]])"
            ]
          },
          "metadata": {
            "tags": []
          },
          "execution_count": 33
        }
      ]
    },
    {
      "cell_type": "code",
      "metadata": {
        "id": "rEkTtj1AeIj2"
      },
      "source": [
        "# len(data['tokenizer'].word_index)"
      ],
      "execution_count": null,
      "outputs": []
    },
    {
      "cell_type": "code",
      "metadata": {
        "id": "k_y66O1aeIm4"
      },
      "source": [
        "d = set()\n",
        "\n",
        "for s in total_texts:\n",
        "    for ss in list(s.split()):\n",
        "        d.add(ss)"
      ],
      "execution_count": null,
      "outputs": []
    },
    {
      "cell_type": "code",
      "metadata": {
        "colab": {
          "base_uri": "https://localhost:8080/"
        },
        "id": "h5r6wOgDRrqT",
        "outputId": "5f777b02-802f-4f57-ce6b-06b8ac9d786d"
      },
      "source": [
        "len(d)"
      ],
      "execution_count": null,
      "outputs": [
        {
          "output_type": "execute_result",
          "data": {
            "text/plain": [
              "15007"
            ]
          },
          "metadata": {
            "tags": []
          },
          "execution_count": 36
        }
      ]
    },
    {
      "cell_type": "code",
      "metadata": {
        "id": "ucdUP9HODgcE"
      },
      "source": [
        "def my_max(x , y):\n",
        "  if x > y:\n",
        "    return x\n",
        "  return y \n",
        "\n"
      ],
      "execution_count": null,
      "outputs": []
    },
    {
      "cell_type": "markdown",
      "metadata": {
        "id": "toWIsk7tD-5v"
      },
      "source": [
        "# Maximum sequence length 129"
      ]
    },
    {
      "cell_type": "code",
      "metadata": {
        "id": "-QfqJ3dnDIGA"
      },
      "source": [
        "max_sequence_length = 0\n",
        "for text in total_texts:\n",
        "  max_sequence_length = my_max(max_sequence_length , len(text))\n"
      ],
      "execution_count": null,
      "outputs": []
    },
    {
      "cell_type": "code",
      "metadata": {
        "colab": {
          "base_uri": "https://localhost:8080/"
        },
        "id": "t7T4NK4SDfSR",
        "outputId": "c77ac165-7750-452f-ff31-5fd05fae01eb"
      },
      "source": [
        "print(max_sequence_length)"
      ],
      "execution_count": null,
      "outputs": [
        {
          "output_type": "stream",
          "text": [
            "151\n"
          ],
          "name": "stdout"
        }
      ]
    },
    {
      "cell_type": "markdown",
      "metadata": {
        "id": "IyO8rJzJCIqQ"
      },
      "source": [
        "# Total unique words 13836"
      ]
    },
    {
      "cell_type": "code",
      "metadata": {
        "id": "xW6gyQmQGMxK"
      },
      "source": [
        "def load_data(num_words, sequence_length, test_size=0.3, oov_token=None):\n",
        "    tokenizer = Tokenizer(num_words=num_words, oov_token=oov_token)\n",
        "    num_classes=465\n",
        "    y = to_categorical(np.asarray(label), num_classes)\n",
        "   \n",
        "   \n",
        "   \n",
        "    tokenizer.fit_on_texts(total_texts)\n",
        "\n",
        "    X = tokenizer.texts_to_sequences(total_texts)\n",
        "    X = np.array(X)\n",
        "    X = pad_sequences(X, maxlen=sequence_length)\n",
        "    X_train, X_test, y_train, y_test = train_test_split(X, y, test_size=test_size, random_state=1)\n",
        "    data = {}\n",
        "    data[\"X_train\"] = X_train\n",
        "    data[\"X_test\"]= X_test\n",
        "    data[\"y_train\"] = y_train\n",
        "    data[\"y_test\"] = y_test\n",
        "    data[\"tokenizer\"] = tokenizer\n",
        "    return data"
      ],
      "execution_count": null,
      "outputs": []
    },
    {
      "cell_type": "code",
      "metadata": {
        "colab": {
          "base_uri": "https://localhost:8080/"
        },
        "id": "orXM4rY_GrBH",
        "outputId": "933709e8-a03f-4fac-d1bc-f9706b9725b3"
      },
      "source": [
        "MAX_SEQUENCE_LENGTH = max_sequence_length    #max([len(s.split()) for s in texts]) \n",
        "MAX_NUM_WORDS = 15007\n",
        "vocab_size = MAX_NUM_WORDS\n",
        "EMBEDDING_DIM = 300\n",
        "VALIDATION_SPLIT = 0.3\n",
        "\n",
        "data = load_data(MAX_NUM_WORDS , MAX_SEQUENCE_LENGTH,VALIDATION_SPLIT)"
      ],
      "execution_count": null,
      "outputs": [
        {
          "output_type": "stream",
          "text": [
            "/usr/local/lib/python3.7/dist-packages/ipykernel_launcher.py:11: VisibleDeprecationWarning: Creating an ndarray from ragged nested sequences (which is a list-or-tuple of lists-or-tuples-or ndarrays with different lengths or shapes) is deprecated. If you meant to do this, you must specify 'dtype=object' when creating the ndarray\n",
            "  # This is added back by InteractiveShellApp.init_path()\n"
          ],
          "name": "stderr"
        }
      ]
    },
    {
      "cell_type": "code",
      "metadata": {
        "id": "qbzguI8cQ-40"
      },
      "source": [
        "from keras import backend as K\n",
        "from keras.engine.topology import Layer\n",
        "from keras import initializers, regularizers, constraints\n",
        "\n",
        "from keras.preprocessing.text import Tokenizer\n",
        "from keras.preprocessing.sequence import pad_sequences\n",
        "from keras.layers import Dense, Input, LSTM, Embedding, Dropout, Activation, Conv1D, GRU \n",
        "from keras.layers import GRU, LSTM, BatchNormalization\n",
        "from keras.layers import Bidirectional, GlobalMaxPool1D, MaxPooling1D, Add, Flatten\n",
        "from keras.layers import GlobalAveragePooling1D, GlobalMaxPooling1D, concatenate, SpatialDropout1D\n",
        "from keras.models import Model, load_model\n",
        "from keras import initializers, regularizers, constraints, optimizers, layers, callbacks\n",
        "from keras import backend as K\n",
        "from keras.engine import InputSpec, Layer\n",
        "from keras.optimizers import Adam\n",
        "\n",
        "from keras.callbacks import ModelCheckpoint, TensorBoard, Callback, EarlyStopping"
      ],
      "execution_count": null,
      "outputs": []
    },
    {
      "cell_type": "code",
      "metadata": {
        "id": "BIZwwrflRBp_"
      },
      "source": [
        "# class Attention(Layer):\n",
        "#     \"\"\"\n",
        "#     Keras Layer that implements an Attention mechanism for temporal data.\n",
        "#     Supports Masking.\n",
        "#     Follows the work of Raffel et al. [https://arxiv.org/abs/1512.08756]\n",
        "#     # Input shape\n",
        "#         3D tensor with shape: `(samples, steps, features)`.\n",
        "#     # Output shape\n",
        "#         2D tensor with shape: `(samples, features)`.\n",
        "#     :param kwargs:\n",
        "#     Just put it on top of an RNN Layer (GRU/LSTM/SimpleRNN) with return_sequences=True.\n",
        "#     The dimensions are inferred based on the output shape of the RNN.\n",
        "#     Example:\n",
        "#         model.add(LSTM(64, return_sequences=True))\n",
        "#         model.add(Attention())\n",
        "#     \"\"\"   \n",
        "   \n",
        "   \n",
        "#     def __init__(self, step_dim,\n",
        "#                  W_regularizer=None, b_regularizer=None,\n",
        "#                  W_constraint=None, b_constraint=None,\n",
        "#                  bias=True, **kwargs):\n",
        "#         self.supports_masking = True\n",
        "#         self.init = initializers.get('glorot_uniform')\n",
        "\n",
        "#         self.W_regularizer = regularizers.get(W_regularizer)\n",
        "#         self.b_regularizer = regularizers.get(b_regularizer)\n",
        "\n",
        "#         self.W_constraint = constraints.get(W_constraint)\n",
        "#         self.b_constraint = constraints.get(b_constraint)\n",
        "\n",
        "#         self.bias = bias\n",
        "#         self.step_dim = step_dim\n",
        "#         self.features_dim = 0\n",
        "#         super(Attention, self).__init__(**kwargs)          \n",
        "            \n",
        "            \n",
        "#         self.features_dim = 0\n",
        "#         super(Attention, self).__init__(**kwargs)\n",
        "\n",
        "#     def build(self, input_shape):\n",
        "#         assert len(input_shape) == 3\n",
        "#         shape=(input_shape[-1],)\n",
        "#         self.W = self.add_weight((shape),\n",
        "#                                  initializer=self.init,\n",
        "#                                  name='{}_W'.format(self.name),\n",
        "#                                  regularizer=self.W_regularizer,\n",
        "#                                  constraint=self.W_constraint)\n",
        "#         self.features_dim = shape\n",
        "\n",
        "#         if self.bias:\n",
        "#             self.b = self.add_weight((shape),\n",
        "#                                      initializer='zero',\n",
        "#                                      name='{}_b'.format(self.name),\n",
        "#                                      regularizer=self.b_regularizer,\n",
        "#                                      constraint=self.b_constraint)\n",
        "#         else:\n",
        "#             self.b = None\n",
        "#         self.built = True\n",
        "    \n",
        "#     def compute_mask(self, input, input_mask=None):\n",
        "#         return None\n",
        "\n",
        "#     def call(self, x, mask=None):\n",
        "#         features_dim = self.features_dim\n",
        "#         step_dim = self.step_dim\n",
        "#         eij = K.reshape(K.dot(K.reshape(x, (-1, features_dim)),\n",
        "#                         K.reshape(self.W, (features_dim, 1))), (-1, step_dim))\n",
        "#         if self.bias:\n",
        "#             eij += self.b\n",
        "#         eij = K.tanh(eij)\n",
        "#         a = K.exp(eij)\n",
        "#         if mask is not None:\n",
        "#             a *= K.cast(mask, K.floatx())\n",
        "#         a /= K.cast(K.sum(a, axis=1, keepdims=True) + K.epsilon(), K.floatx())\n",
        "#         a = K.expand_dims(a)\n",
        "#         weighted_input = x * a\n",
        "#         return K.sum(weighted_input, axis=1)\n",
        "\n",
        "#     def compute_output_shape(self, input_shape):\n",
        "#         return input_shape[0],  self.features_dim"
      ],
      "execution_count": null,
      "outputs": []
    },
    {
      "cell_type": "code",
      "metadata": {
        "id": "DLxcV22FREC8"
      },
      "source": [
        "# #max_features = 30000\n",
        "# max_features = 14964 + 1\n",
        "# max_len = 151\n",
        "# def build_model(max_len, max_features, EMBEDDING_DIM, embedding_matrix):\n",
        "#     input_words = Input((max_len, ))\n",
        "#     x_words = Embedding(max_features,\n",
        "#                         EMBEDDING_DIM,\n",
        "#                         weights=[embedding_matrix],\n",
        "#                         mask_zero=True,\n",
        "#                         trainable=False)(input_words)\n",
        "#     x_words = SpatialDropout1D(0.2)(x_words)\n",
        "#     x_words = Bidirectional(LSTM(128, return_sequences=True))(x_words)\n",
        "#     x_words = Bidirectional(LSTM(128, return_sequences=True))(x_words)\n",
        "    \n",
        "#     x = Attention(max_len)(x_words)\n",
        "#     #x = GlobalMaxPooling1D()(x)\n",
        "#     #x = GlobalAveragePooling1D()(x)\n",
        "#     x = Dropout(0.2)(x)\n",
        "#     x = Dense(64, activation='relu')(x)\n",
        "#     x = Dropout(0.2)(x)\n",
        "#     pred = Dense(16, activation='softmax')(x)\n",
        "\n",
        "#     model = Model(inputs=input_words, outputs=pred)\n",
        "#     return model\n",
        "\n",
        "# model = build_model(max_len, max_features, EMBEDDING_DIM, embedding_matrix)\n",
        "# model.compile(optimizer='adam', loss='categorical_crossentropy', metrics=['accuracy'])\n",
        "# model.summary()\n",
        "# '''\n",
        "# MAX_SEQUENCE_LENGTH = 11276    #max([len(s.split()) for s in texts]) \n",
        "# MAX_NUM_WORDS = 109803 + 1\n",
        "# vocab_size = MAX_NUM_WORDS\n",
        "# EMBEDDING_DIM = 300\n",
        "# VALIDATION_SPLIT = 0.2\n",
        "\n",
        "# data = load_data(MAX_NUM_WORDS , MAX_SEQUENCE_LENGTH,VALIDATION_SPLIT)\n",
        "# '''"
      ],
      "execution_count": null,
      "outputs": []
    },
    {
      "cell_type": "code",
      "metadata": {
        "id": "fS5YkVtEQEiE"
      },
      "source": [
        "# embedding_vecor_length = 300\n",
        "# MAX_NUM_WORDS = 1761\n",
        "# model = Sequential()\n",
        "# model.add(Embedding(MAX_NUM_WORDS, embedding_vecor_length,  weights=[embedding_matrix], input_length=max_sequence_length))\n",
        "# model.add(LSTM(300))\n",
        "\n",
        "# model.add(Dense(27, activation='softmax'))\n",
        "# model.compile(loss='categorical_crossentropy', optimizer='adam', metrics=['accuracy'])\n",
        "# print(model.summary())"
      ],
      "execution_count": null,
      "outputs": []
    },
    {
      "cell_type": "code",
      "metadata": {
        "id": "nlxCgQv5eIpn",
        "colab": {
          "base_uri": "https://localhost:8080/"
        },
        "outputId": "eaf12a4c-ae11-490a-ea3a-792ed37bb054"
      },
      "source": [
        "embedding_vecor_length = 300\n",
        "MAX_NUM_WORDS = 14965\n",
        "model = Sequential()\n",
        "model.add(Embedding(MAX_NUM_WORDS, embedding_vecor_length,  weights=[embedding_matrix], input_length=max_sequence_length))\n",
        "model.add(Bidirectional(LSTM(300)))\n",
        "\n",
        "model.add(Dense(465, activation='softmax'))\n",
        "model.compile(loss='categorical_crossentropy', optimizer='adam', metrics=['accuracy'])\n",
        "print(model.summary())"
      ],
      "execution_count": null,
      "outputs": [
        {
          "output_type": "stream",
          "text": [
            "Model: \"sequential_1\"\n",
            "_________________________________________________________________\n",
            "Layer (type)                 Output Shape              Param #   \n",
            "=================================================================\n",
            "embedding_2 (Embedding)      (None, 151, 300)          4489500   \n",
            "_________________________________________________________________\n",
            "bidirectional_2 (Bidirection (None, 600)               1442400   \n",
            "_________________________________________________________________\n",
            "dense (Dense)                (None, 465)               279465    \n",
            "=================================================================\n",
            "Total params: 6,211,365\n",
            "Trainable params: 6,211,365\n",
            "Non-trainable params: 0\n",
            "_________________________________________________________________\n",
            "None\n"
          ],
          "name": "stdout"
        }
      ]
    },
    {
      "cell_type": "code",
      "metadata": {
        "colab": {
          "base_uri": "https://localhost:8080/"
        },
        "id": "cI2JbN0leIsH",
        "outputId": "12399ce9-d5a5-4205-8906-26e1951e8bcc"
      },
      "source": [
        "history = model.fit(data['X_train'], data['y_train'], validation_data=(data['X_test'], data['y_test']),\n",
        "                    epochs=100,\n",
        "                    verbose=2)"
      ],
      "execution_count": null,
      "outputs": [
        {
          "output_type": "stream",
          "text": [
            "Epoch 1/100\n",
            "208/208 - 68s - loss: 5.0461 - accuracy: 0.1277 - val_loss: 3.7308 - val_accuracy: 0.2713\n",
            "Epoch 2/100\n",
            "208/208 - 32s - loss: 2.4161 - accuracy: 0.5086 - val_loss: 2.2233 - val_accuracy: 0.5330\n",
            "Epoch 3/100\n",
            "208/208 - 32s - loss: 1.0571 - accuracy: 0.8041 - val_loss: 1.7081 - val_accuracy: 0.6244\n",
            "Epoch 4/100\n",
            "208/208 - 32s - loss: 0.4402 - accuracy: 0.9358 - val_loss: 1.5078 - val_accuracy: 0.6634\n",
            "Epoch 5/100\n",
            "208/208 - 32s - loss: 0.1789 - accuracy: 0.9824 - val_loss: 1.4007 - val_accuracy: 0.6880\n",
            "Epoch 6/100\n",
            "208/208 - 32s - loss: 0.0879 - accuracy: 0.9908 - val_loss: 1.3780 - val_accuracy: 0.6911\n",
            "Epoch 7/100\n",
            "208/208 - 31s - loss: 0.0502 - accuracy: 0.9946 - val_loss: 1.3909 - val_accuracy: 0.6845\n",
            "Epoch 8/100\n",
            "208/208 - 31s - loss: 0.0368 - accuracy: 0.9955 - val_loss: 1.3410 - val_accuracy: 0.6985\n",
            "Epoch 9/100\n",
            "208/208 - 32s - loss: 0.0294 - accuracy: 0.9958 - val_loss: 1.3516 - val_accuracy: 0.7020\n",
            "Epoch 10/100\n",
            "208/208 - 32s - loss: 0.0238 - accuracy: 0.9965 - val_loss: 1.3303 - val_accuracy: 0.6992\n",
            "Epoch 11/100\n",
            "208/208 - 32s - loss: 0.0220 - accuracy: 0.9962 - val_loss: 1.3788 - val_accuracy: 0.6992\n",
            "Epoch 12/100\n",
            "208/208 - 32s - loss: 0.0197 - accuracy: 0.9961 - val_loss: 1.4144 - val_accuracy: 0.6894\n",
            "Epoch 13/100\n",
            "208/208 - 32s - loss: 0.0168 - accuracy: 0.9970 - val_loss: 1.3560 - val_accuracy: 0.7003\n",
            "Epoch 14/100\n",
            "208/208 - 32s - loss: 0.0150 - accuracy: 0.9973 - val_loss: 1.3527 - val_accuracy: 0.7066\n",
            "Epoch 15/100\n",
            "208/208 - 32s - loss: 0.0148 - accuracy: 0.9970 - val_loss: 1.3628 - val_accuracy: 0.7094\n",
            "Epoch 16/100\n",
            "208/208 - 32s - loss: 0.0142 - accuracy: 0.9968 - val_loss: 1.4039 - val_accuracy: 0.6968\n",
            "Epoch 17/100\n",
            "208/208 - 32s - loss: 0.0956 - accuracy: 0.9816 - val_loss: 1.6472 - val_accuracy: 0.6479\n",
            "Epoch 18/100\n",
            "208/208 - 32s - loss: 0.1036 - accuracy: 0.9822 - val_loss: 1.4920 - val_accuracy: 0.6841\n",
            "Epoch 19/100\n",
            "208/208 - 32s - loss: 0.0302 - accuracy: 0.9938 - val_loss: 1.4187 - val_accuracy: 0.7112\n",
            "Epoch 20/100\n",
            "208/208 - 32s - loss: 0.0188 - accuracy: 0.9956 - val_loss: 1.4081 - val_accuracy: 0.7098\n",
            "Epoch 21/100\n",
            "208/208 - 32s - loss: 0.0123 - accuracy: 0.9971 - val_loss: 1.4133 - val_accuracy: 0.7186\n",
            "Epoch 22/100\n",
            "208/208 - 32s - loss: 0.0097 - accuracy: 0.9974 - val_loss: 1.3908 - val_accuracy: 0.7217\n",
            "Epoch 23/100\n",
            "208/208 - 32s - loss: 0.0098 - accuracy: 0.9970 - val_loss: 1.4269 - val_accuracy: 0.7171\n",
            "Epoch 24/100\n",
            "208/208 - 32s - loss: 0.0095 - accuracy: 0.9974 - val_loss: 1.4123 - val_accuracy: 0.7193\n",
            "Epoch 25/100\n",
            "208/208 - 32s - loss: 0.0096 - accuracy: 0.9970 - val_loss: 1.4042 - val_accuracy: 0.7224\n",
            "Epoch 26/100\n",
            "208/208 - 32s - loss: 0.0089 - accuracy: 0.9970 - val_loss: 1.4207 - val_accuracy: 0.7238\n",
            "Epoch 27/100\n",
            "208/208 - 32s - loss: 0.0088 - accuracy: 0.9974 - val_loss: 1.4073 - val_accuracy: 0.7228\n",
            "Epoch 28/100\n",
            "208/208 - 32s - loss: 0.0081 - accuracy: 0.9973 - val_loss: 1.4180 - val_accuracy: 0.7210\n",
            "Epoch 29/100\n",
            "208/208 - 32s - loss: 0.0079 - accuracy: 0.9976 - val_loss: 1.3970 - val_accuracy: 0.7221\n",
            "Epoch 30/100\n",
            "208/208 - 32s - loss: 0.0093 - accuracy: 0.9974 - val_loss: 1.4274 - val_accuracy: 0.7231\n",
            "Epoch 31/100\n",
            "208/208 - 32s - loss: 0.0113 - accuracy: 0.9961 - val_loss: 1.4464 - val_accuracy: 0.7182\n",
            "Epoch 32/100\n",
            "208/208 - 32s - loss: 0.0083 - accuracy: 0.9973 - val_loss: 1.4255 - val_accuracy: 0.7200\n",
            "Epoch 33/100\n",
            "208/208 - 32s - loss: 0.0066 - accuracy: 0.9979 - val_loss: 1.4129 - val_accuracy: 0.7224\n",
            "Epoch 34/100\n",
            "208/208 - 32s - loss: 0.0078 - accuracy: 0.9970 - val_loss: 1.4285 - val_accuracy: 0.7238\n",
            "Epoch 35/100\n",
            "208/208 - 32s - loss: 0.0075 - accuracy: 0.9968 - val_loss: 1.4521 - val_accuracy: 0.7196\n",
            "Epoch 36/100\n",
            "208/208 - 32s - loss: 0.0074 - accuracy: 0.9971 - val_loss: 1.4319 - val_accuracy: 0.7224\n",
            "Epoch 37/100\n",
            "208/208 - 32s - loss: 0.0071 - accuracy: 0.9971 - val_loss: 1.5109 - val_accuracy: 0.7136\n",
            "Epoch 38/100\n",
            "208/208 - 32s - loss: 0.0069 - accuracy: 0.9974 - val_loss: 1.4653 - val_accuracy: 0.7193\n",
            "Epoch 39/100\n",
            "208/208 - 32s - loss: 0.0060 - accuracy: 0.9973 - val_loss: 1.4534 - val_accuracy: 0.7249\n",
            "Epoch 40/100\n",
            "208/208 - 32s - loss: 0.0064 - accuracy: 0.9973 - val_loss: 1.4528 - val_accuracy: 0.7238\n",
            "Epoch 41/100\n",
            "208/208 - 32s - loss: 0.0065 - accuracy: 0.9974 - val_loss: 1.4659 - val_accuracy: 0.7238\n",
            "Epoch 42/100\n",
            "208/208 - 32s - loss: 0.0059 - accuracy: 0.9974 - val_loss: 1.4791 - val_accuracy: 0.7214\n",
            "Epoch 43/100\n",
            "208/208 - 32s - loss: 0.0072 - accuracy: 0.9971 - val_loss: 1.4769 - val_accuracy: 0.7210\n",
            "Epoch 44/100\n",
            "208/208 - 32s - loss: 0.0061 - accuracy: 0.9973 - val_loss: 1.4975 - val_accuracy: 0.7224\n",
            "Epoch 45/100\n",
            "208/208 - 32s - loss: 0.0064 - accuracy: 0.9971 - val_loss: 1.5032 - val_accuracy: 0.7189\n",
            "Epoch 46/100\n",
            "208/208 - 31s - loss: 0.0063 - accuracy: 0.9971 - val_loss: 1.4940 - val_accuracy: 0.7214\n",
            "Epoch 47/100\n",
            "208/208 - 31s - loss: 0.0066 - accuracy: 0.9968 - val_loss: 1.5181 - val_accuracy: 0.7178\n",
            "Epoch 48/100\n",
            "208/208 - 32s - loss: 0.0428 - accuracy: 0.9887 - val_loss: 1.7829 - val_accuracy: 0.6339\n",
            "Epoch 49/100\n",
            "208/208 - 32s - loss: 0.1025 - accuracy: 0.9777 - val_loss: 1.5147 - val_accuracy: 0.7048\n",
            "Epoch 50/100\n",
            "208/208 - 32s - loss: 0.0155 - accuracy: 0.9959 - val_loss: 1.3964 - val_accuracy: 0.7245\n",
            "Epoch 51/100\n",
            "208/208 - 32s - loss: 0.0089 - accuracy: 0.9970 - val_loss: 1.4456 - val_accuracy: 0.7231\n",
            "Epoch 52/100\n",
            "208/208 - 32s - loss: 0.0067 - accuracy: 0.9976 - val_loss: 1.4024 - val_accuracy: 0.7316\n",
            "Epoch 53/100\n",
            "208/208 - 32s - loss: 0.0076 - accuracy: 0.9971 - val_loss: 1.4084 - val_accuracy: 0.7312\n",
            "Epoch 54/100\n",
            "208/208 - 32s - loss: 0.0067 - accuracy: 0.9971 - val_loss: 1.4182 - val_accuracy: 0.7316\n",
            "Epoch 55/100\n",
            "208/208 - 32s - loss: 0.0063 - accuracy: 0.9973 - val_loss: 1.4333 - val_accuracy: 0.7298\n",
            "Epoch 56/100\n",
            "208/208 - 32s - loss: 0.0069 - accuracy: 0.9965 - val_loss: 1.4398 - val_accuracy: 0.7266\n",
            "Epoch 57/100\n",
            "208/208 - 32s - loss: 0.0066 - accuracy: 0.9968 - val_loss: 1.4546 - val_accuracy: 0.7277\n",
            "Epoch 58/100\n",
            "208/208 - 32s - loss: 0.0064 - accuracy: 0.9971 - val_loss: 1.4530 - val_accuracy: 0.7273\n",
            "Epoch 59/100\n",
            "208/208 - 32s - loss: 0.0059 - accuracy: 0.9971 - val_loss: 1.4650 - val_accuracy: 0.7273\n",
            "Epoch 60/100\n",
            "208/208 - 32s - loss: 0.0062 - accuracy: 0.9968 - val_loss: 1.4716 - val_accuracy: 0.7259\n",
            "Epoch 61/100\n",
            "208/208 - 32s - loss: 0.0056 - accuracy: 0.9974 - val_loss: 1.4763 - val_accuracy: 0.7280\n",
            "Epoch 62/100\n",
            "208/208 - 32s - loss: 0.0054 - accuracy: 0.9971 - val_loss: 1.4793 - val_accuracy: 0.7291\n",
            "Epoch 63/100\n",
            "208/208 - 32s - loss: 0.0060 - accuracy: 0.9971 - val_loss: 1.4724 - val_accuracy: 0.7291\n",
            "Epoch 64/100\n",
            "208/208 - 32s - loss: 0.0055 - accuracy: 0.9971 - val_loss: 1.5008 - val_accuracy: 0.7263\n",
            "Epoch 65/100\n",
            "208/208 - 32s - loss: 0.0058 - accuracy: 0.9973 - val_loss: 1.4880 - val_accuracy: 0.7287\n",
            "Epoch 66/100\n",
            "208/208 - 32s - loss: 0.0058 - accuracy: 0.9968 - val_loss: 1.5038 - val_accuracy: 0.7256\n",
            "Epoch 67/100\n",
            "208/208 - 32s - loss: 0.0059 - accuracy: 0.9968 - val_loss: 1.4876 - val_accuracy: 0.7291\n",
            "Epoch 68/100\n",
            "208/208 - 32s - loss: 0.0055 - accuracy: 0.9974 - val_loss: 1.5082 - val_accuracy: 0.7287\n",
            "Epoch 69/100\n",
            "208/208 - 32s - loss: 0.0052 - accuracy: 0.9974 - val_loss: 1.5077 - val_accuracy: 0.7270\n",
            "Epoch 70/100\n",
            "208/208 - 32s - loss: 0.0056 - accuracy: 0.9971 - val_loss: 1.5152 - val_accuracy: 0.7291\n",
            "Epoch 71/100\n",
            "208/208 - 32s - loss: 0.0053 - accuracy: 0.9977 - val_loss: 1.5190 - val_accuracy: 0.7284\n",
            "Epoch 72/100\n",
            "208/208 - 32s - loss: 0.0050 - accuracy: 0.9976 - val_loss: 1.5255 - val_accuracy: 0.7287\n",
            "Epoch 73/100\n",
            "208/208 - 32s - loss: 0.0056 - accuracy: 0.9973 - val_loss: 1.5318 - val_accuracy: 0.7273\n",
            "Epoch 74/100\n",
            "208/208 - 32s - loss: 0.0050 - accuracy: 0.9973 - val_loss: 1.5213 - val_accuracy: 0.7287\n",
            "Epoch 75/100\n",
            "208/208 - 32s - loss: 0.0055 - accuracy: 0.9973 - val_loss: 1.5472 - val_accuracy: 0.7256\n",
            "Epoch 76/100\n",
            "208/208 - 32s - loss: 0.0050 - accuracy: 0.9970 - val_loss: 1.5673 - val_accuracy: 0.7263\n",
            "Epoch 77/100\n",
            "208/208 - 32s - loss: 0.0053 - accuracy: 0.9974 - val_loss: 1.5471 - val_accuracy: 0.7238\n",
            "Epoch 78/100\n",
            "208/208 - 32s - loss: 0.0051 - accuracy: 0.9968 - val_loss: 1.5506 - val_accuracy: 0.7270\n",
            "Epoch 79/100\n",
            "208/208 - 32s - loss: 0.0049 - accuracy: 0.9974 - val_loss: 1.5452 - val_accuracy: 0.7301\n",
            "Epoch 80/100\n",
            "208/208 - 32s - loss: 0.0047 - accuracy: 0.9974 - val_loss: 1.5495 - val_accuracy: 0.7291\n",
            "Epoch 81/100\n",
            "208/208 - 32s - loss: 0.0051 - accuracy: 0.9971 - val_loss: 1.5905 - val_accuracy: 0.7249\n",
            "Epoch 82/100\n",
            "208/208 - 32s - loss: 0.0055 - accuracy: 0.9968 - val_loss: 1.5653 - val_accuracy: 0.7273\n",
            "Epoch 83/100\n",
            "208/208 - 32s - loss: 0.0054 - accuracy: 0.9973 - val_loss: 1.5588 - val_accuracy: 0.7287\n",
            "Epoch 84/100\n",
            "208/208 - 32s - loss: 0.0047 - accuracy: 0.9971 - val_loss: 1.5737 - val_accuracy: 0.7242\n",
            "Epoch 85/100\n",
            "208/208 - 32s - loss: 0.0049 - accuracy: 0.9973 - val_loss: 1.5733 - val_accuracy: 0.7270\n",
            "Epoch 86/100\n",
            "208/208 - 32s - loss: 0.0050 - accuracy: 0.9973 - val_loss: 1.5866 - val_accuracy: 0.7263\n",
            "Epoch 87/100\n",
            "208/208 - 32s - loss: 0.0048 - accuracy: 0.9974 - val_loss: 1.5836 - val_accuracy: 0.7280\n",
            "Epoch 88/100\n",
            "208/208 - 32s - loss: 0.0053 - accuracy: 0.9973 - val_loss: 1.6114 - val_accuracy: 0.7094\n",
            "Epoch 89/100\n",
            "208/208 - 32s - loss: 0.0547 - accuracy: 0.9846 - val_loss: 1.5902 - val_accuracy: 0.6922\n",
            "Epoch 90/100\n",
            "208/208 - 32s - loss: 0.0144 - accuracy: 0.9956 - val_loss: 1.5378 - val_accuracy: 0.7178\n",
            "Epoch 91/100\n",
            "208/208 - 32s - loss: 0.0063 - accuracy: 0.9968 - val_loss: 1.5055 - val_accuracy: 0.7228\n",
            "Epoch 92/100\n",
            "208/208 - 32s - loss: 0.0051 - accuracy: 0.9974 - val_loss: 1.5225 - val_accuracy: 0.7259\n",
            "Epoch 93/100\n",
            "208/208 - 32s - loss: 0.0056 - accuracy: 0.9968 - val_loss: 1.5254 - val_accuracy: 0.7270\n",
            "Epoch 94/100\n",
            "208/208 - 32s - loss: 0.0050 - accuracy: 0.9971 - val_loss: 1.5314 - val_accuracy: 0.7270\n",
            "Epoch 95/100\n",
            "208/208 - 32s - loss: 0.0051 - accuracy: 0.9970 - val_loss: 1.5328 - val_accuracy: 0.7252\n",
            "Epoch 96/100\n",
            "208/208 - 32s - loss: 0.0051 - accuracy: 0.9970 - val_loss: 1.5387 - val_accuracy: 0.7263\n",
            "Epoch 97/100\n",
            "208/208 - 32s - loss: 0.0050 - accuracy: 0.9974 - val_loss: 1.5452 - val_accuracy: 0.7287\n",
            "Epoch 98/100\n",
            "208/208 - 32s - loss: 0.0046 - accuracy: 0.9971 - val_loss: 1.5493 - val_accuracy: 0.7284\n",
            "Epoch 99/100\n",
            "208/208 - 32s - loss: 0.0045 - accuracy: 0.9974 - val_loss: 1.5598 - val_accuracy: 0.7273\n",
            "Epoch 100/100\n",
            "208/208 - 32s - loss: 0.0052 - accuracy: 0.9970 - val_loss: 1.5628 - val_accuracy: 0.7249\n"
          ],
          "name": "stdout"
        }
      ]
    },
    {
      "cell_type": "code",
      "metadata": {
        "id": "JYeIf_7BTX1e"
      },
      "source": [
        "model_eval = model.evaluate(data['X_test'], data['y_test'])"
      ],
      "execution_count": null,
      "outputs": []
    },
    {
      "cell_type": "code",
      "metadata": {
        "id": "uW_Mo0nkJ0bI"
      },
      "source": [
        "data['X_train'].shape"
      ],
      "execution_count": null,
      "outputs": []
    },
    {
      "cell_type": "code",
      "metadata": {
        "id": "1bShP3lmD6B1"
      },
      "source": [
        "data['X_test'].shape"
      ],
      "execution_count": null,
      "outputs": []
    },
    {
      "cell_type": "code",
      "metadata": {
        "id": "GSYL2IFKD9UF"
      },
      "source": [
        "data['y_train'].shape"
      ],
      "execution_count": null,
      "outputs": []
    },
    {
      "cell_type": "code",
      "metadata": {
        "id": "9NekyuVUKKeA"
      },
      "source": [
        "data['y_test'].shape"
      ],
      "execution_count": null,
      "outputs": []
    },
    {
      "cell_type": "code",
      "metadata": {
        "id": "3O9CWhuZO5co"
      },
      "source": [
        "from keras.layers import TimeDistributed"
      ],
      "execution_count": null,
      "outputs": []
    },
    {
      "cell_type": "code",
      "metadata": {
        "id": "Vgoixut1PA3L"
      },
      "source": [
        "def get_sequence(n_timesteps):\n",
        "\t# create a sequence of random numbers in [0,1]\n",
        "\tX = array([random() for _ in range(n_timesteps)])\n",
        "\t# calculate cut-off value to change class values\n",
        "\tlimit = n_timesteps/4.0\n",
        "\t# determine the class outcome for each item in cumulative sequence\n",
        "\ty = array([0 if x < limit else 1 for x in cumsum(X)])\n",
        "\t# reshape input and output data to be suitable for LSTMs\n",
        "\tX = X.reshape(1, n_timesteps, 1)\n",
        "\ty = y.reshape(1, n_timesteps, 1)\n",
        "\treturn X, y"
      ],
      "execution_count": null,
      "outputs": []
    },
    {
      "cell_type": "code",
      "metadata": {
        "id": "sq1-453pNaEQ"
      },
      "source": [
        "def get_lstm_model(n_timesteps, backwards):\n",
        "\tmodel = Sequential()\n",
        "\tmodel.add(LSTM(20, input_shape=(n_timesteps, 1), return_sequences=True, go_backwards=backwards))\n",
        "\tmodel.add(TimeDistributed(Dense(1, activation='softmax')))\n",
        "\tmodel.compile(loss='categorical_crossentropy', optimizer='adam')\n",
        "\treturn model\n",
        " \n",
        "def get_bi_lstm_model(n_timesteps, mode):\n",
        "\tmodel = Sequential()\n",
        "\tmodel.add(Bidirectional(LSTM(20, return_sequences=True), input_shape=(n_timesteps, 1), merge_mode=mode))\n",
        "\tmodel.add(TimeDistributed(Dense(1, activation='softmax')))\n",
        "\tmodel.compile(loss='categorical_crossentropy', optimizer='adam')\n",
        "\treturn model\n",
        " \n",
        "def train_model(model, n_timesteps):\n",
        "\tloss = list()\n",
        "\tfor _ in range(250):\n",
        "\t\t# generate new random sequence\n",
        "\t\tX,y = get_sequence(n_timesteps)\n",
        "\t\t# fit model for one epoch on this sequence\n",
        "\t\thist = model.fit(X, y, epochs=1, batch_size=1, verbose=0)\n",
        "\t\tloss.append(hist.history['loss'][0])\n",
        "\treturn loss\n",
        " \n",
        " \n",
        "n_timesteps = 10\n",
        "results = DataFrame()\n",
        "# lstm forwards\n",
        "model = get_lstm_model(n_timesteps, False)\n",
        "results['lstm_forw'] = train_model(model, n_timesteps)\n",
        "# lstm backwards\n",
        "model = get_lstm_model(n_timesteps, True)\n",
        "results['lstm_back'] = train_model(model, n_timesteps)\n",
        "# bidirectional concat\n",
        "model = get_bi_lstm_model(n_timesteps, 'concat')\n",
        "results['bilstm_con'] = train_model(model, n_timesteps)\n",
        "# line plot of results\n",
        "results.plot()\n",
        "pyplot.show()"
      ],
      "execution_count": null,
      "outputs": []
    },
    {
      "cell_type": "code",
      "metadata": {
        "id": "9HaGW8LSeIvH"
      },
      "source": [
        "import seaborn as sns\n",
        "from sklearn.metrics import confusion_matrix\n",
        "import matplotlib.pyplot as plt\n",
        "def confussion_mat(model):\n",
        "    # Predict the values from the validation dataset\n",
        "    Y_pred = model.predict(data['X_test'])\n",
        "    # Convert predictions classes to one hot vectors \n",
        "    Y_pred_classes = np.argmax(Y_pred,axis = 1) \n",
        "    # Convert validation observations to one hot vectors\n",
        "    Y_true = np.argmax(data['y_test'],axis = 1) \n",
        "    # compute the confusion matrix\n",
        "    confusion_mtx = confusion_matrix(Y_true, Y_pred_classes) \n",
        "    # plot the confusion matrix\n",
        "    f,ax = plt.subplots(figsize=(15, 15))\n",
        "    sns.heatmap(confusion_mtx, annot=True, linewidths=0.01,cmap=\"Greens\",linecolor=\"gray\", fmt= '.1f',ax=ax)\n",
        "    plt.xlabel(\"Predicted Label\")\n",
        "    plt.ylabel(\"True Label\")\n",
        "    plt.title(\"Confusion Matrix\")\n",
        "    plt.show()"
      ],
      "execution_count": null,
      "outputs": []
    },
    {
      "cell_type": "code",
      "metadata": {
        "id": "XTj7Xf0kehZ7"
      },
      "source": [
        "def history2(history):\n",
        "    # list all data in history\n",
        "    print(history.history.keys())\n",
        "    # summarize history for accuracy\n",
        "    plt.plot(history.history['accuracy'])\n",
        "    plt.plot(history.history['val_accuracy'])\n",
        "    plt.title('model accuracy')\n",
        "    plt.ylabel('accuracy')\n",
        "    plt.xlabel('epoch')\n",
        "    plt.legend(['train','validation'], loc='upper left')\n",
        "    plt.show()\n",
        "    # summarize history for loss\n",
        "    plt.plot(history.history['loss'])\n",
        "    plt.plot(history.history['val_loss'])\n",
        "    plt.title('model loss')\n",
        "    plt.ylabel('loss')\n",
        "    plt.xlabel('epoch')\n",
        "    plt.legend(['train','validation'], loc='upper left')\n",
        "    plt.show()"
      ],
      "execution_count": null,
      "outputs": []
    },
    {
      "cell_type": "code",
      "metadata": {
        "id": "MHCzFxeoehj2"
      },
      "source": [
        "history2(history)"
      ],
      "execution_count": null,
      "outputs": []
    },
    {
      "cell_type": "code",
      "metadata": {
        "id": "Z_d90tVMFCaE"
      },
      "source": [
        "#extract labels from encoder\n",
        "labels = list(df['meaning'])"
      ],
      "execution_count": null,
      "outputs": []
    },
    {
      "cell_type": "code",
      "metadata": {
        "id": "FWIDuFMxehtu"
      },
      "source": [
        "confussion_mat(model)"
      ],
      "execution_count": null,
      "outputs": []
    },
    {
      "cell_type": "markdown",
      "metadata": {
        "id": "xg-XDc_7xjcd"
      },
      "source": [
        "# BERT"
      ]
    },
    {
      "cell_type": "code",
      "metadata": {
        "id": "2BhrvNJZxh-a"
      },
      "source": [
        "!pip install transformers"
      ],
      "execution_count": null,
      "outputs": []
    },
    {
      "cell_type": "code",
      "metadata": {
        "id": "JWYoGAeZxvYv"
      },
      "source": [
        "from transformers import BertModel, BertTokenizer, pipeline"
      ],
      "execution_count": null,
      "outputs": []
    },
    {
      "cell_type": "code",
      "metadata": {
        "id": "DScHD9oyxzCB"
      },
      "source": [
        "!pip install git+https://github.com/sagorbrur/bangla-bert.git"
      ],
      "execution_count": null,
      "outputs": []
    },
    {
      "cell_type": "code",
      "metadata": {
        "id": "hf7Z3r1CyBsQ"
      },
      "source": [
        "!ls"
      ],
      "execution_count": null,
      "outputs": []
    },
    {
      "cell_type": "code",
      "metadata": {
        "id": "UM9AlVgMyG_a"
      },
      "source": [
        "model_name = \"sagorsarker/bangla-bert-base\"\n",
        "# model_name = 'bert-base-uncased'\n",
        "tokenizer = BertTokenizer.from_pretrained(model_name)\n",
        "model = BertModel.from_pretrained(model_name)\n",
        "inputs = tokenizer(\"Hello, my dog is cute\", return_tensors=\"pt\")\n",
        "outputs = model(**inputs)"
      ],
      "execution_count": null,
      "outputs": []
    },
    {
      "cell_type": "code",
      "metadata": {
        "id": "ifrbh8k9yQgt"
      },
      "source": [
        "masked_text = []\n",
        "for tmp in texts:\n",
        "    masked_text.append(\"[CLS] \" + tmp + \" [SEP]\")\n",
        "\n",
        "\n",
        "def get_embedding_matrix(masked_text):\n",
        "    inputs = tokenizer(masked_text, return_tensors=\"pt\", padding=True, truncation = True,  max_length =129)\n",
        "    outputs = model(**inputs)\n",
        "    #last_hidden_states = outputs.last_hidden_state \n",
        "\n",
        "\n",
        "    return outputs[1]"
      ],
      "execution_count": null,
      "outputs": []
    },
    {
      "cell_type": "code",
      "metadata": {
        "id": "F8KXM9lkyV-K"
      },
      "source": [
        "# v = get_embedding_matrix(masked_text)"
      ],
      "execution_count": null,
      "outputs": []
    },
    {
      "cell_type": "code",
      "metadata": {
        "id": "t30ORsNzytC4"
      },
      "source": [
        "a = []\n",
        "while(1):\n",
        "    a.append(1)"
      ],
      "execution_count": null,
      "outputs": []
    }
  ]
}